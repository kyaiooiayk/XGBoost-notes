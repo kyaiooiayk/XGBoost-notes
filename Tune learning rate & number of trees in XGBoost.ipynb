{
 "cells": [
  {
   "cell_type": "code",
   "execution_count": 1,
   "metadata": {},
   "outputs": [
    {
     "data": {
      "text/plain": [
       "'\\nWhat? Tune learning rate & number of trees in XGBoost\\n\\n\\nA problem with gradient boosted decision trees is that they are quick to learn \\nand overfit training data. One effective way to slow down learning in the gradient\\nboosting model is to use a learning rate, also called shrinkage \\n\\nDate: 02/12/20\\nReference: XGBoost with pyton, Jason Borwnlee\\n'"
      ]
     },
     "execution_count": 1,
     "metadata": {},
     "output_type": "execute_result"
    }
   ],
   "source": [
    "\"\"\"\n",
    "What? Tune learning rate & number of trees in XGBoost\n",
    "\n",
    "A problem with gradient boosted decision trees is that they are quick to learn \n",
    "and overfit training data. One effective way to slow down learning in the gradient\n",
    "boosting model is to use a learning rate, also called shrinkage \n",
    "\n",
    "https://machinelearningmastery.com/tune-number-size-decision-trees-xgboost-python/\n",
    "\"\"\""
   ]
  },
  {
   "cell_type": "code",
   "execution_count": 8,
   "metadata": {},
   "outputs": [],
   "source": [
    "# Import python modules\n",
    "from pylab import rcParams\n",
    "from pandas import read_csv\n",
    "from matplotlib import pyplot\n",
    "from xgboost import XGBClassifier\n",
    "from IPython.display import Markdown, display\n",
    "from sklearn.preprocessing import LabelEncoder\n",
    "from sklearn.model_selection import GridSearchCV\n",
    "from sklearn.model_selection import StratifiedKFold"
   ]
  },
  {
   "cell_type": "markdown",
   "metadata": {},
   "source": [
    "### Gradient boosting involves creating and adding trees to the model sequentially. New trees are created to correct the residual errors in the predictions from the existing sequence of trees. The effect is that the model can quickly fit, then overfit the training dataset. A technique to slow down the learning in the gradient boosting model is to apply a weighting factor for the corrections by new trees when added to the model. This weighting is called the shrinkage factor or the learning rate.\n",
    "\n",
    "### Naive gradient boosting is the same as gradient boosting with shrinkage where the shrinkage factor is set to 1.0. Setting values less than 1.0 has the effect of making less corrections for each tree added to the model. This in turn results in more trees that must be added to the model. It is common to have small values in the range of 0.1 to 0.3, as well as values less than 0.1"
   ]
  },
  {
   "cell_type": "code",
   "execution_count": 4,
   "metadata": {},
   "outputs": [
    {
     "data": {
      "text/markdown": [
       "<span style='color:blue'>**Reading the dataset**</span>"
      ],
      "text/plain": [
       "<IPython.core.display.Markdown object>"
      ]
     },
     "metadata": {},
     "output_type": "display_data"
    },
    {
     "name": "stdout",
     "output_type": "stream",
     "text": [
      "Input X shape:  (61878, 94)\n",
      "Label y shape:  (61878,)\n",
      "Label yEncoded shape:  (61878,)\n"
     ]
    }
   ],
   "source": [
    "# load data\n",
    "data = read_csv('../DATASETS/train_Otto_classification.csv')\n",
    "dataset = data.values\n",
    "# split data into X and y\n",
    "X = dataset[:,0:94]\n",
    "y = dataset[:,94]\n",
    "\n",
    "# Encode string class values as integers\n",
    "label_encoded_y = LabelEncoder().fit_transform(y)\n",
    "\n",
    "\n",
    "print(\"Input X shape: \", X.shape)\n",
    "print(\"Label y shape: \", y.shape)\n",
    "print(\"Label yEncoded shape: \", y.shape)"
   ]
  },
  {
   "cell_type": "code",
   "execution_count": 5,
   "metadata": {},
   "outputs": [],
   "source": [
    "# Grid search\n",
    "model = XGBClassifier()\n",
    "learning_rate = [0.0001, 0.001, 0.01, 0.1, 0.2, 0.3]\n",
    "param_grid = dict(learning_rate = learning_rate)\n",
    "kfold = StratifiedKFold(n_splits = 10, shuffle = True, random_state = 7)\n",
    "grid_search = GridSearchCV(model, param_grid, scoring = \"neg_log_loss\", n_jobs = -1, cv = kfold) \n",
    "grid_result = grid_search.fit(X, label_encoded_y)"
   ]
  },
  {
   "cell_type": "code",
   "execution_count": 6,
   "metadata": {},
   "outputs": [
    {
     "name": "stdout",
     "output_type": "stream",
     "text": [
      "Best: -0.001155 using {'learning_rate': 0.3}\n",
      "-2.153330 (0.000009) with: {'learning_rate': 0.0001}\n",
      "-1.827377 (0.000066) with: {'learning_rate': 0.001}\n",
      "-0.590581 (0.000296) with: {'learning_rate': 0.01}\n",
      "-0.001270 (0.001075) with: {'learning_rate': 0.1}\n",
      "-0.001167 (0.001060) with: {'learning_rate': 0.2}\n",
      "-0.001155 (0.001053) with: {'learning_rate': 0.3}\n"
     ]
    }
   ],
   "source": [
    "# summarize results\n",
    "print(\"Best: %f using %s\" % (grid_result.best_score_, grid_result.best_params_))\n",
    "means = grid_result.cv_results_['mean_test_score']\n",
    "stds = grid_result.cv_results_['std_test_score']\n",
    "params = grid_result.cv_results_['params']\n",
    "for mean, stdev, param in zip(means, stds, params):\n",
    "    print(\"%f (%f) with: %r\" % (mean, stdev, param))"
   ]
  },
  {
   "cell_type": "markdown",
   "metadata": {},
   "source": [
    "### Interestingly, we can see that the best learning rate was 0.2. This is a high learning rate and it suggest that perhaps the default number of trees of 100 is too low and needs to be increased/"
   ]
  },
  {
   "cell_type": "code",
   "execution_count": 9,
   "metadata": {},
   "outputs": [
    {
     "data": {
      "image/png": "[encoded data removed]",
      "text/plain": [
       "<Figure size 432x288 with 1 Axes>"
      ]
     },
     "metadata": {
      "needs_background": "light"
     },
     "output_type": "display_data"
    }
   ],
   "source": [
    "# plot\n",
    "pyplot.errorbar(learning_rate, means, yerr=stds) \n",
    "pyplot.title(\"XGBoost learning_rate vs Log Loss\") \n",
    "pyplot.xlabel('learning_rate')\n",
    "pyplot.ylabel('Log Loss') \n",
    "pyplot.show()"
   ]
  },
  {
   "cell_type": "markdown",
   "metadata": {},
   "source": [
    "### Tuning Learning Rate and the Number of Trees at the same time"
   ]
  },
  {
   "cell_type": "code",
   "execution_count": null,
   "metadata": {},
   "outputs": [],
   "source": [
    "\"\"\"\n",
    "There are 5 variations of n estimators and 4 variations of learning rate. \n",
    "Each combination will be evaluated using 10-fold cross-validation, so \n",
    "that is a total of 4 × 5 × 10 or 200 XGBoost models that must be trained\n",
    "and evaluated.\n",
    "\"\"\""
   ]
  },
  {
   "cell_type": "code",
   "execution_count": null,
   "metadata": {},
   "outputs": [],
   "source": [
    "# Grid search\n",
    "model = XGBClassifier()\n",
    "n_estimators = [100, 200, 300, 400, 500]\n",
    "learning_rate = [0.0001, 0.001, 0.01, 0.1]\n",
    "param_grid = dict(learning_rate=learning_rate, n_estimators=n_estimators)\n",
    "kfold = StratifiedKFold(n_splits=10, shuffle=True, random_state=7)\n",
    "grid_search = GridSearchCV(model, param_grid, scoring=\"neg_log_loss\", n_jobs=-1, cv=kfold) \n",
    "grid_result = grid_search.fit(X, label_encoded_y)"
   ]
  },
  {
   "cell_type": "code",
   "execution_count": null,
   "metadata": {},
   "outputs": [],
   "source": [
    "#  summarize results\n",
    "print(\"Best: %f using %s\" % (grid_result.best_score_, grid_result.best_params_))\n",
    "means = grid_result.cv_results_['mean_test_score']\n",
    "stds = grid_result.cv_results_['std_test_score']\n",
    "params = grid_result.cv_results_['params']\n",
    "for mean, stdev, param in zip(means, stds, params):\n",
    "    print(\"%f (%f) with: %r\" % (mean, stdev, param))"
   ]
  },
  {
   "cell_type": "code",
   "execution_count": null,
   "metadata": {},
   "outputs": [],
   "source": [
    "# plot results\n",
    "scores = numpy.array(means).reshape(len(learning_rate), len(n_estimators))\n",
    "for i, value in enumerate(learning_rate):\n",
    "    pyplot.plot(n_estimators, scores[i], label='learning_rate: ' + str(value)) \n",
    "pyplot.legend()\n",
    "pyplot.xlabel('n_estimators')\n",
    "pyplot.ylabel('Log Loss')\n",
    "pyplot.show()"
   ]
  },
  {
   "cell_type": "code",
   "execution_count": null,
   "metadata": {},
   "outputs": [],
   "source": [
    "\"\"\"\n",
    "We can see that the expected general trend holds, where the performance \n",
    "(inverted log loss) improves as the number of trees is increased. \n",
    "Performance is generally poor for the smaller learning rates, suggesting\n",
    "that a much larger number of trees may be required. We may need to increase\n",
    "the number of trees to many thousands which may be quite computationally \n",
    "expensive.\n",
    "\"\"\""
   ]
  }
 ],
 "metadata": {
  "hide_input": false,
  "kernelspec": {
   "display_name": "trainingAI",
   "language": "python",
   "name": "trainingai"
  },
  "language_info": {
   "codemirror_mode": {
    "name": "ipython",
    "version": 3
   },
   "file_extension": ".py",
   "mimetype": "text/x-python",
   "name": "python",
   "nbconvert_exporter": "python",
   "pygments_lexer": "ipython3",
   "version": "3.8.5"
  }
 },
 "nbformat": 4,
 "nbformat_minor": 2
}
