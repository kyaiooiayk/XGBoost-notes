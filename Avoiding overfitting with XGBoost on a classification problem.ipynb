{
 "cells": [
  {
   "cell_type": "markdown",
   "metadata": {},
   "source": [
    "# Introduction\n",
    "<hr style=\"border:2px solid black\"> </hr>"
   ]
  },
  {
   "cell_type": "markdown",
   "metadata": {},
   "source": [
    "<div class=\"alert alert-warning\">\n",
    "<font color=black>\n",
    "\n",
    "**What?** Avoiding overfitting with XGBoost on a classification problem\n",
    "\n",
    "</font>\n",
    "</div>"
   ]
  },
  {
   "cell_type": "markdown",
   "metadata": {},
   "source": [
    "# Import modules\n",
    "<hr style=\"border:2px solid black\"> </hr>"
   ]
  },
  {
   "cell_type": "code",
   "execution_count": 33,
   "metadata": {},
   "outputs": [],
   "source": [
    "\n",
    "from xgboost import XGBClassifier\n",
    "from sklearn.model_selection import train_test_split\n",
    "from sklearn.metrics import accuracy_score\n",
    "import matplotlib.pyplot as plt\n",
    "from matplotlib import rcParams\n",
    "rcParams['figure.figsize'] = 14, 5\n",
    "rcParams['font.size'] = 20"
   ]
  },
  {
   "cell_type": "markdown",
   "metadata": {},
   "source": [
    "# Load & split the dataset\n",
    "<hr style=\"border:2px solid black\"> </hr>"
   ]
  },
  {
   "cell_type": "code",
   "execution_count": 4,
   "metadata": {},
   "outputs": [],
   "source": [
    "dataset = loadtxt('../DATASETS/pima-indians-diabetes.csv', delimiter=\",\")\n",
    "X = dataset[:,0:8]\n",
    "Y = dataset[:,8]"
   ]
  },
  {
   "cell_type": "code",
   "execution_count": 5,
   "metadata": {},
   "outputs": [],
   "source": [
    "X_train, X_test, y_train, y_test = train_test_split(X, Y, test_size=0.33, random_state=7)"
   ]
  },
  {
   "cell_type": "markdown",
   "metadata": {},
   "source": [
    "# Fit the model\n",
    "<hr style=\"border:2px solid black\"> </hr>"
   ]
  },
  {
   "cell_type": "markdown",
   "metadata": {},
   "source": [
    "<div class=\"alert alert-info\">\n",
    "<font color=black>\n",
    "\n",
    "- We can see that the classification error is reported each training iteration (after each boosted tree is added to the model).\n",
    "- This can be see in a more elegant way by plotting the learning curves\n",
    "\n",
    "</font>\n",
    "</div>\n"
   ]
  },
  {
   "cell_type": "code",
   "execution_count": 9,
   "metadata": {
    "scrolled": true
   },
   "outputs": [
    {
     "name": "stdout",
     "output_type": "stream",
     "text": [
      "[0]\tvalidation_0-error:0.259843\n",
      "[1]\tvalidation_0-error:0.26378\n",
      "[2]\tvalidation_0-error:0.26378\n",
      "[3]\tvalidation_0-error:0.255906\n",
      "[4]\tvalidation_0-error:0.255906\n",
      "[5]\tvalidation_0-error:0.26378\n",
      "[6]\tvalidation_0-error:0.23622\n",
      "[7]\tvalidation_0-error:0.255906\n",
      "[8]\tvalidation_0-error:0.248031\n",
      "[9]\tvalidation_0-error:0.248031\n",
      "[10]\tvalidation_0-error:0.248031\n",
      "[11]\tvalidation_0-error:0.232283\n",
      "[12]\tvalidation_0-error:0.228346\n",
      "[13]\tvalidation_0-error:0.228346\n",
      "[14]\tvalidation_0-error:0.228346\n",
      "[15]\tvalidation_0-error:0.228346\n",
      "[16]\tvalidation_0-error:0.228346\n",
      "[17]\tvalidation_0-error:0.228346\n",
      "[18]\tvalidation_0-error:0.224409\n",
      "[19]\tvalidation_0-error:0.232283\n",
      "[20]\tvalidation_0-error:0.232283\n",
      "[21]\tvalidation_0-error:0.23622\n",
      "[22]\tvalidation_0-error:0.23622\n",
      "[23]\tvalidation_0-error:0.232283\n",
      "[24]\tvalidation_0-error:0.228346\n",
      "[25]\tvalidation_0-error:0.228346\n",
      "[26]\tvalidation_0-error:0.224409\n",
      "[27]\tvalidation_0-error:0.224409\n",
      "[28]\tvalidation_0-error:0.228346\n",
      "[29]\tvalidation_0-error:0.232283\n",
      "[30]\tvalidation_0-error:0.228346\n",
      "[31]\tvalidation_0-error:0.224409\n",
      "[32]\tvalidation_0-error:0.224409\n",
      "[33]\tvalidation_0-error:0.228346\n",
      "[34]\tvalidation_0-error:0.228346\n",
      "[35]\tvalidation_0-error:0.224409\n",
      "[36]\tvalidation_0-error:0.228346\n",
      "[37]\tvalidation_0-error:0.224409\n",
      "[38]\tvalidation_0-error:0.216535\n",
      "[39]\tvalidation_0-error:0.220472\n",
      "[40]\tvalidation_0-error:0.216535\n",
      "[41]\tvalidation_0-error:0.216535\n",
      "[42]\tvalidation_0-error:0.216535\n",
      "[43]\tvalidation_0-error:0.216535\n",
      "[44]\tvalidation_0-error:0.212598\n",
      "[45]\tvalidation_0-error:0.224409\n",
      "[46]\tvalidation_0-error:0.224409\n",
      "[47]\tvalidation_0-error:0.220472\n",
      "[48]\tvalidation_0-error:0.224409\n",
      "[49]\tvalidation_0-error:0.232283\n",
      "[50]\tvalidation_0-error:0.228346\n",
      "[51]\tvalidation_0-error:0.224409\n",
      "[52]\tvalidation_0-error:0.224409\n",
      "[53]\tvalidation_0-error:0.232283\n",
      "[54]\tvalidation_0-error:0.228346\n",
      "[55]\tvalidation_0-error:0.228346\n",
      "[56]\tvalidation_0-error:0.224409\n",
      "[57]\tvalidation_0-error:0.224409\n",
      "[58]\tvalidation_0-error:0.224409\n",
      "[59]\tvalidation_0-error:0.224409\n",
      "[60]\tvalidation_0-error:0.224409\n",
      "[61]\tvalidation_0-error:0.224409\n",
      "[62]\tvalidation_0-error:0.224409\n",
      "[63]\tvalidation_0-error:0.224409\n",
      "[64]\tvalidation_0-error:0.224409\n",
      "[65]\tvalidation_0-error:0.224409\n",
      "[66]\tvalidation_0-error:0.220472\n",
      "[67]\tvalidation_0-error:0.216535\n",
      "[68]\tvalidation_0-error:0.216535\n",
      "[69]\tvalidation_0-error:0.216535\n",
      "[70]\tvalidation_0-error:0.216535\n",
      "[71]\tvalidation_0-error:0.216535\n",
      "[72]\tvalidation_0-error:0.216535\n",
      "[73]\tvalidation_0-error:0.216535\n",
      "[74]\tvalidation_0-error:0.216535\n",
      "[75]\tvalidation_0-error:0.216535\n",
      "[76]\tvalidation_0-error:0.216535\n",
      "[77]\tvalidation_0-error:0.216535\n",
      "[78]\tvalidation_0-error:0.216535\n",
      "[79]\tvalidation_0-error:0.212598\n",
      "[80]\tvalidation_0-error:0.212598\n",
      "[81]\tvalidation_0-error:0.212598\n",
      "[82]\tvalidation_0-error:0.212598\n",
      "[83]\tvalidation_0-error:0.212598\n",
      "[84]\tvalidation_0-error:0.208661\n",
      "[85]\tvalidation_0-error:0.204724\n",
      "[86]\tvalidation_0-error:0.212598\n",
      "[87]\tvalidation_0-error:0.212598\n",
      "[88]\tvalidation_0-error:0.212598\n",
      "[89]\tvalidation_0-error:0.204724\n",
      "[90]\tvalidation_0-error:0.208661\n",
      "[91]\tvalidation_0-error:0.208661\n",
      "[92]\tvalidation_0-error:0.208661\n",
      "[93]\tvalidation_0-error:0.208661\n",
      "[94]\tvalidation_0-error:0.208661\n",
      "[95]\tvalidation_0-error:0.212598\n",
      "[96]\tvalidation_0-error:0.204724\n",
      "[97]\tvalidation_0-error:0.212598\n",
      "[98]\tvalidation_0-error:0.216535\n",
      "[99]\tvalidation_0-error:0.220472\n"
     ]
    },
    {
     "data": {
      "text/plain": [
       "XGBClassifier()"
      ]
     },
     "execution_count": 9,
     "metadata": {},
     "output_type": "execute_result"
    }
   ],
   "source": [
    "# fit model on training data\n",
    "model = XGBClassifier()\n",
    "eval_set = [(X_test, y_test)]\n",
    "model.fit(X_train, y_train, eval_metric=\"error\", eval_set=eval_set, verbose=True)"
   ]
  },
  {
   "cell_type": "code",
   "execution_count": 28,
   "metadata": {
    "scrolled": true
   },
   "outputs": [
    {
     "data": {
      "text/plain": [
       "[0.259843,\n",
       " 0.26378,\n",
       " 0.26378,\n",
       " 0.255906,\n",
       " 0.255906,\n",
       " 0.26378,\n",
       " 0.23622,\n",
       " 0.255906,\n",
       " 0.248031,\n",
       " 0.248031,\n",
       " 0.248031,\n",
       " 0.232283,\n",
       " 0.228346,\n",
       " 0.228346,\n",
       " 0.228346,\n",
       " 0.228346,\n",
       " 0.228346,\n",
       " 0.228346,\n",
       " 0.224409,\n",
       " 0.232283,\n",
       " 0.232283,\n",
       " 0.23622,\n",
       " 0.23622,\n",
       " 0.232283,\n",
       " 0.228346,\n",
       " 0.228346,\n",
       " 0.224409,\n",
       " 0.224409,\n",
       " 0.228346,\n",
       " 0.232283,\n",
       " 0.228346,\n",
       " 0.224409,\n",
       " 0.224409,\n",
       " 0.228346,\n",
       " 0.228346,\n",
       " 0.224409,\n",
       " 0.228346,\n",
       " 0.224409,\n",
       " 0.216535,\n",
       " 0.220472,\n",
       " 0.216535,\n",
       " 0.216535,\n",
       " 0.216535,\n",
       " 0.216535,\n",
       " 0.212598,\n",
       " 0.224409,\n",
       " 0.224409,\n",
       " 0.220472,\n",
       " 0.224409,\n",
       " 0.232283,\n",
       " 0.228346,\n",
       " 0.224409,\n",
       " 0.224409,\n",
       " 0.232283,\n",
       " 0.228346,\n",
       " 0.228346,\n",
       " 0.224409,\n",
       " 0.224409,\n",
       " 0.224409,\n",
       " 0.224409,\n",
       " 0.224409,\n",
       " 0.224409,\n",
       " 0.224409,\n",
       " 0.224409,\n",
       " 0.224409,\n",
       " 0.224409,\n",
       " 0.220472,\n",
       " 0.216535,\n",
       " 0.216535,\n",
       " 0.216535,\n",
       " 0.216535,\n",
       " 0.216535,\n",
       " 0.216535,\n",
       " 0.216535,\n",
       " 0.216535,\n",
       " 0.216535,\n",
       " 0.216535,\n",
       " 0.216535,\n",
       " 0.216535,\n",
       " 0.212598,\n",
       " 0.212598,\n",
       " 0.212598,\n",
       " 0.212598,\n",
       " 0.212598,\n",
       " 0.208661,\n",
       " 0.204724,\n",
       " 0.212598,\n",
       " 0.212598,\n",
       " 0.212598,\n",
       " 0.204724,\n",
       " 0.208661,\n",
       " 0.208661,\n",
       " 0.208661,\n",
       " 0.208661,\n",
       " 0.208661,\n",
       " 0.212598,\n",
       " 0.204724,\n",
       " 0.212598,\n",
       " 0.216535,\n",
       " 0.220472]"
      ]
     },
     "execution_count": 28,
     "metadata": {},
     "output_type": "execute_result"
    }
   ],
   "source": [
    "results = model.evals_result()\n",
    "results[\"validation_0\"][\"error\"]"
   ]
  },
  {
   "cell_type": "code",
   "execution_count": 8,
   "metadata": {},
   "outputs": [
    {
     "name": "stdout",
     "output_type": "stream",
     "text": [
      "Accuracy: 77.95%\n"
     ]
    }
   ],
   "source": [
    "# make predictions for test data\n",
    "y_pred = model.predict(X_test)\n",
    "predictions = [round(value) for value in y_pred]\n",
    "# evaluate predictions\n",
    "accuracy = accuracy_score(y_test, predictions)\n",
    "print(\"Accuracy: %.2f%%\" % (accuracy * 100.0))"
   ]
  },
  {
   "cell_type": "markdown",
   "metadata": {},
   "source": [
    "# Learning curves\n",
    "<hr style=\"border:2px solid black\"> </hr>"
   ]
  },
  {
   "cell_type": "markdown",
   "metadata": {},
   "source": [
    "<div class=\"alert alert-info\">\n",
    "<font color=black>\n",
    "\n",
    "- We are poviding two different metrics as it is difficult to see which one is best.\n",
    "- In my experience, some metrics are more suited to show the kink to properly identified the correct stoppoing round\n",
    "- **Logloss plot**: we can clearly see there is an opportunity to stop the learning early around epoch 20 to epoch 40.\n",
    "- **Classification error** we see a similar trend but is not as clear as the logloss plot.\n",
    "- I use them both just to corroborate where I think we should stop the training.\n",
    "- However, we;ll see how this can be automated.\n",
    "\n",
    "</font>\n",
    "</div>"
   ]
  },
  {
   "cell_type": "code",
   "execution_count": 29,
   "metadata": {},
   "outputs": [
    {
     "name": "stdout",
     "output_type": "stream",
     "text": [
      "[0]\tvalidation_0-error:0.22179\tvalidation_0-logloss:0.655153\tvalidation_1-error:0.259843\tvalidation_1-logloss:0.660186\n",
      "[1]\tvalidation_0-error:0.202335\tvalidation_0-logloss:0.623322\tvalidation_1-error:0.26378\tvalidation_1-logloss:0.634854\n",
      "[2]\tvalidation_0-error:0.196498\tvalidation_0-logloss:0.596814\tvalidation_1-error:0.26378\tvalidation_1-logloss:0.61224\n",
      "[3]\tvalidation_0-error:0.200389\tvalidation_0-logloss:0.574027\tvalidation_1-error:0.255906\tvalidation_1-logloss:0.593118\n",
      "[4]\tvalidation_0-error:0.202335\tvalidation_0-logloss:0.553853\tvalidation_1-error:0.255906\tvalidation_1-logloss:0.578303\n",
      "[5]\tvalidation_0-error:0.202335\tvalidation_0-logloss:0.536789\tvalidation_1-error:0.26378\tvalidation_1-logloss:0.564942\n",
      "[6]\tvalidation_0-error:0.194553\tvalidation_0-logloss:0.521477\tvalidation_1-error:0.23622\tvalidation_1-logloss:0.555113\n",
      "[7]\tvalidation_0-error:0.200389\tvalidation_0-logloss:0.507802\tvalidation_1-error:0.255906\tvalidation_1-logloss:0.54499\n",
      "[8]\tvalidation_0-error:0.194553\tvalidation_0-logloss:0.495257\tvalidation_1-error:0.248031\tvalidation_1-logloss:0.539151\n",
      "[9]\tvalidation_0-error:0.188716\tvalidation_0-logloss:0.484235\tvalidation_1-error:0.248031\tvalidation_1-logloss:0.531819\n",
      "[10]\tvalidation_0-error:0.184825\tvalidation_0-logloss:0.474463\tvalidation_1-error:0.248031\tvalidation_1-logloss:0.526065\n",
      "[11]\tvalidation_0-error:0.180934\tvalidation_0-logloss:0.465102\tvalidation_1-error:0.232283\tvalidation_1-logloss:0.519769\n",
      "[12]\tvalidation_0-error:0.177043\tvalidation_0-logloss:0.457304\tvalidation_1-error:0.228346\tvalidation_1-logloss:0.514979\n",
      "[13]\tvalidation_0-error:0.178988\tvalidation_0-logloss:0.44952\tvalidation_1-error:0.228346\tvalidation_1-logloss:0.50927\n",
      "[14]\tvalidation_0-error:0.177043\tvalidation_0-logloss:0.442121\tvalidation_1-error:0.228346\tvalidation_1-logloss:0.506086\n",
      "[15]\tvalidation_0-error:0.175097\tvalidation_0-logloss:0.435904\tvalidation_1-error:0.228346\tvalidation_1-logloss:0.503565\n",
      "[16]\tvalidation_0-error:0.173152\tvalidation_0-logloss:0.430177\tvalidation_1-error:0.228346\tvalidation_1-logloss:0.503591\n",
      "[17]\tvalidation_0-error:0.173152\tvalidation_0-logloss:0.425058\tvalidation_1-error:0.228346\tvalidation_1-logloss:0.500805\n",
      "[18]\tvalidation_0-error:0.173152\tvalidation_0-logloss:0.419677\tvalidation_1-error:0.224409\tvalidation_1-logloss:0.497605\n",
      "[19]\tvalidation_0-error:0.173152\tvalidation_0-logloss:0.415222\tvalidation_1-error:0.232283\tvalidation_1-logloss:0.495328\n",
      "[20]\tvalidation_0-error:0.167315\tvalidation_0-logloss:0.410329\tvalidation_1-error:0.232283\tvalidation_1-logloss:0.494777\n",
      "[21]\tvalidation_0-error:0.169261\tvalidation_0-logloss:0.405705\tvalidation_1-error:0.23622\tvalidation_1-logloss:0.494274\n",
      "[22]\tvalidation_0-error:0.171206\tvalidation_0-logloss:0.402225\tvalidation_1-error:0.23622\tvalidation_1-logloss:0.493333\n",
      "[23]\tvalidation_0-error:0.173152\tvalidation_0-logloss:0.398076\tvalidation_1-error:0.232283\tvalidation_1-logloss:0.492211\n",
      "[24]\tvalidation_0-error:0.177043\tvalidation_0-logloss:0.395054\tvalidation_1-error:0.228346\tvalidation_1-logloss:0.491936\n",
      "[25]\tvalidation_0-error:0.173152\tvalidation_0-logloss:0.392106\tvalidation_1-error:0.228346\tvalidation_1-logloss:0.490578\n",
      "[26]\tvalidation_0-error:0.177043\tvalidation_0-logloss:0.389044\tvalidation_1-error:0.224409\tvalidation_1-logloss:0.490895\n",
      "[27]\tvalidation_0-error:0.177043\tvalidation_0-logloss:0.385267\tvalidation_1-error:0.224409\tvalidation_1-logloss:0.490646\n",
      "[28]\tvalidation_0-error:0.177043\tvalidation_0-logloss:0.382761\tvalidation_1-error:0.228346\tvalidation_1-logloss:0.491911\n",
      "[29]\tvalidation_0-error:0.175097\tvalidation_0-logloss:0.380311\tvalidation_1-error:0.232283\tvalidation_1-logloss:0.491407\n",
      "[30]\tvalidation_0-error:0.175097\tvalidation_0-logloss:0.376631\tvalidation_1-error:0.228346\tvalidation_1-logloss:0.488828\n",
      "[31]\tvalidation_0-error:0.177043\tvalidation_0-logloss:0.374024\tvalidation_1-error:0.224409\tvalidation_1-logloss:0.487867\n",
      "[32]\tvalidation_0-error:0.178988\tvalidation_0-logloss:0.371973\tvalidation_1-error:0.224409\tvalidation_1-logloss:0.487297\n",
      "[33]\tvalidation_0-error:0.175097\tvalidation_0-logloss:0.369996\tvalidation_1-error:0.228346\tvalidation_1-logloss:0.487562\n",
      "[34]\tvalidation_0-error:0.171206\tvalidation_0-logloss:0.36738\tvalidation_1-error:0.228346\tvalidation_1-logloss:0.487789\n",
      "[35]\tvalidation_0-error:0.16537\tvalidation_0-logloss:0.363693\tvalidation_1-error:0.224409\tvalidation_1-logloss:0.487962\n",
      "[36]\tvalidation_0-error:0.177043\tvalidation_0-logloss:0.362079\tvalidation_1-error:0.228346\tvalidation_1-logloss:0.488218\n",
      "[37]\tvalidation_0-error:0.163424\tvalidation_0-logloss:0.35992\tvalidation_1-error:0.224409\tvalidation_1-logloss:0.489582\n",
      "[38]\tvalidation_0-error:0.169261\tvalidation_0-logloss:0.357945\tvalidation_1-error:0.216535\tvalidation_1-logloss:0.489334\n",
      "[39]\tvalidation_0-error:0.167315\tvalidation_0-logloss:0.355859\tvalidation_1-error:0.220472\tvalidation_1-logloss:0.490968\n",
      "[40]\tvalidation_0-error:0.16537\tvalidation_0-logloss:0.352872\tvalidation_1-error:0.216535\tvalidation_1-logloss:0.48978\n",
      "[41]\tvalidation_0-error:0.167315\tvalidation_0-logloss:0.351036\tvalidation_1-error:0.216535\tvalidation_1-logloss:0.490704\n",
      "[42]\tvalidation_0-error:0.159533\tvalidation_0-logloss:0.349321\tvalidation_1-error:0.216535\tvalidation_1-logloss:0.492369\n",
      "[43]\tvalidation_0-error:0.155642\tvalidation_0-logloss:0.346132\tvalidation_1-error:0.216535\tvalidation_1-logloss:0.492247\n",
      "[44]\tvalidation_0-error:0.151751\tvalidation_0-logloss:0.343088\tvalidation_1-error:0.212598\tvalidation_1-logloss:0.492908\n",
      "[45]\tvalidation_0-error:0.149805\tvalidation_0-logloss:0.340633\tvalidation_1-error:0.224409\tvalidation_1-logloss:0.491999\n",
      "[46]\tvalidation_0-error:0.145914\tvalidation_0-logloss:0.339085\tvalidation_1-error:0.224409\tvalidation_1-logloss:0.491278\n",
      "[47]\tvalidation_0-error:0.143969\tvalidation_0-logloss:0.336401\tvalidation_1-error:0.220472\tvalidation_1-logloss:0.491611\n",
      "[48]\tvalidation_0-error:0.143969\tvalidation_0-logloss:0.33483\tvalidation_1-error:0.224409\tvalidation_1-logloss:0.492568\n",
      "[49]\tvalidation_0-error:0.142023\tvalidation_0-logloss:0.331806\tvalidation_1-error:0.232283\tvalidation_1-logloss:0.494289\n",
      "[50]\tvalidation_0-error:0.136187\tvalidation_0-logloss:0.329741\tvalidation_1-error:0.228346\tvalidation_1-logloss:0.493236\n",
      "[51]\tvalidation_0-error:0.138132\tvalidation_0-logloss:0.328944\tvalidation_1-error:0.224409\tvalidation_1-logloss:0.493717\n",
      "[52]\tvalidation_0-error:0.138132\tvalidation_0-logloss:0.327021\tvalidation_1-error:0.224409\tvalidation_1-logloss:0.493996\n",
      "[53]\tvalidation_0-error:0.138132\tvalidation_0-logloss:0.324874\tvalidation_1-error:0.232283\tvalidation_1-logloss:0.494553\n",
      "[54]\tvalidation_0-error:0.132296\tvalidation_0-logloss:0.323564\tvalidation_1-error:0.228346\tvalidation_1-logloss:0.496089\n",
      "[55]\tvalidation_0-error:0.136187\tvalidation_0-logloss:0.321531\tvalidation_1-error:0.228346\tvalidation_1-logloss:0.497547\n",
      "[56]\tvalidation_0-error:0.134241\tvalidation_0-logloss:0.320381\tvalidation_1-error:0.224409\tvalidation_1-logloss:0.498491\n",
      "[57]\tvalidation_0-error:0.13035\tvalidation_0-logloss:0.318469\tvalidation_1-error:0.224409\tvalidation_1-logloss:0.497816\n",
      "[58]\tvalidation_0-error:0.13035\tvalidation_0-logloss:0.317531\tvalidation_1-error:0.224409\tvalidation_1-logloss:0.497638\n",
      "[59]\tvalidation_0-error:0.13035\tvalidation_0-logloss:0.315915\tvalidation_1-error:0.224409\tvalidation_1-logloss:0.499368\n",
      "[60]\tvalidation_0-error:0.128405\tvalidation_0-logloss:0.313413\tvalidation_1-error:0.224409\tvalidation_1-logloss:0.500054\n",
      "[61]\tvalidation_0-error:0.128405\tvalidation_0-logloss:0.312326\tvalidation_1-error:0.224409\tvalidation_1-logloss:0.500986\n",
      "[62]\tvalidation_0-error:0.126459\tvalidation_0-logloss:0.310292\tvalidation_1-error:0.224409\tvalidation_1-logloss:0.501629\n",
      "[63]\tvalidation_0-error:0.126459\tvalidation_0-logloss:0.309323\tvalidation_1-error:0.224409\tvalidation_1-logloss:0.501099\n",
      "[64]\tvalidation_0-error:0.126459\tvalidation_0-logloss:0.308336\tvalidation_1-error:0.224409\tvalidation_1-logloss:0.500962\n",
      "[65]\tvalidation_0-error:0.126459\tvalidation_0-logloss:0.307393\tvalidation_1-error:0.224409\tvalidation_1-logloss:0.502172\n",
      "[66]\tvalidation_0-error:0.122568\tvalidation_0-logloss:0.305181\tvalidation_1-error:0.220472\tvalidation_1-logloss:0.501892\n",
      "[67]\tvalidation_0-error:0.122568\tvalidation_0-logloss:0.303725\tvalidation_1-error:0.216535\tvalidation_1-logloss:0.502023\n"
     ]
    },
    {
     "name": "stdout",
     "output_type": "stream",
     "text": [
      "[68]\tvalidation_0-error:0.118677\tvalidation_0-logloss:0.302821\tvalidation_1-error:0.216535\tvalidation_1-logloss:0.503108\n",
      "[69]\tvalidation_0-error:0.120623\tvalidation_0-logloss:0.30198\tvalidation_1-error:0.216535\tvalidation_1-logloss:0.502674\n",
      "[70]\tvalidation_0-error:0.120623\tvalidation_0-logloss:0.29991\tvalidation_1-error:0.216535\tvalidation_1-logloss:0.502662\n",
      "[71]\tvalidation_0-error:0.122568\tvalidation_0-logloss:0.298055\tvalidation_1-error:0.216535\tvalidation_1-logloss:0.50343\n",
      "[72]\tvalidation_0-error:0.120623\tvalidation_0-logloss:0.296987\tvalidation_1-error:0.216535\tvalidation_1-logloss:0.504037\n",
      "[73]\tvalidation_0-error:0.120623\tvalidation_0-logloss:0.295123\tvalidation_1-error:0.216535\tvalidation_1-logloss:0.504439\n",
      "[74]\tvalidation_0-error:0.118677\tvalidation_0-logloss:0.294368\tvalidation_1-error:0.216535\tvalidation_1-logloss:0.503696\n",
      "[75]\tvalidation_0-error:0.118677\tvalidation_0-logloss:0.293513\tvalidation_1-error:0.216535\tvalidation_1-logloss:0.504477\n",
      "[76]\tvalidation_0-error:0.116732\tvalidation_0-logloss:0.292825\tvalidation_1-error:0.216535\tvalidation_1-logloss:0.504245\n",
      "[77]\tvalidation_0-error:0.116732\tvalidation_0-logloss:0.290549\tvalidation_1-error:0.216535\tvalidation_1-logloss:0.504356\n",
      "[78]\tvalidation_0-error:0.114786\tvalidation_0-logloss:0.288623\tvalidation_1-error:0.216535\tvalidation_1-logloss:0.505392\n",
      "[79]\tvalidation_0-error:0.114786\tvalidation_0-logloss:0.286707\tvalidation_1-error:0.212598\tvalidation_1-logloss:0.505377\n",
      "[80]\tvalidation_0-error:0.114786\tvalidation_0-logloss:0.285468\tvalidation_1-error:0.212598\tvalidation_1-logloss:0.505835\n",
      "[81]\tvalidation_0-error:0.11284\tvalidation_0-logloss:0.284848\tvalidation_1-error:0.212598\tvalidation_1-logloss:0.505566\n",
      "[82]\tvalidation_0-error:0.110895\tvalidation_0-logloss:0.282342\tvalidation_1-error:0.212598\tvalidation_1-logloss:0.507154\n",
      "[83]\tvalidation_0-error:0.11284\tvalidation_0-logloss:0.27989\tvalidation_1-error:0.212598\tvalidation_1-logloss:0.507149\n",
      "[84]\tvalidation_0-error:0.110895\tvalidation_0-logloss:0.278918\tvalidation_1-error:0.208661\tvalidation_1-logloss:0.507921\n",
      "[85]\tvalidation_0-error:0.105058\tvalidation_0-logloss:0.277478\tvalidation_1-error:0.204724\tvalidation_1-logloss:0.509487\n",
      "[86]\tvalidation_0-error:0.103113\tvalidation_0-logloss:0.275833\tvalidation_1-error:0.212598\tvalidation_1-logloss:0.509011\n",
      "[87]\tvalidation_0-error:0.103113\tvalidation_0-logloss:0.275339\tvalidation_1-error:0.212598\tvalidation_1-logloss:0.509105\n",
      "[88]\tvalidation_0-error:0.101167\tvalidation_0-logloss:0.273798\tvalidation_1-error:0.212598\tvalidation_1-logloss:0.510977\n",
      "[89]\tvalidation_0-error:0.105058\tvalidation_0-logloss:0.273078\tvalidation_1-error:0.204724\tvalidation_1-logloss:0.512553\n",
      "[90]\tvalidation_0-error:0.105058\tvalidation_0-logloss:0.272368\tvalidation_1-error:0.208661\tvalidation_1-logloss:0.513818\n",
      "[91]\tvalidation_0-error:0.105058\tvalidation_0-logloss:0.271264\tvalidation_1-error:0.208661\tvalidation_1-logloss:0.513864\n",
      "[92]\tvalidation_0-error:0.103113\tvalidation_0-logloss:0.269753\tvalidation_1-error:0.208661\tvalidation_1-logloss:0.514177\n",
      "[93]\tvalidation_0-error:0.103113\tvalidation_0-logloss:0.269307\tvalidation_1-error:0.208661\tvalidation_1-logloss:0.514497\n",
      "[94]\tvalidation_0-error:0.101167\tvalidation_0-logloss:0.268809\tvalidation_1-error:0.208661\tvalidation_1-logloss:0.513991\n",
      "[95]\tvalidation_0-error:0.101167\tvalidation_0-logloss:0.268196\tvalidation_1-error:0.212598\tvalidation_1-logloss:0.514902\n",
      "[96]\tvalidation_0-error:0.095331\tvalidation_0-logloss:0.266979\tvalidation_1-error:0.204724\tvalidation_1-logloss:0.51644\n",
      "[97]\tvalidation_0-error:0.095331\tvalidation_0-logloss:0.265722\tvalidation_1-error:0.212598\tvalidation_1-logloss:0.516317\n",
      "[98]\tvalidation_0-error:0.097276\tvalidation_0-logloss:0.26507\tvalidation_1-error:0.216535\tvalidation_1-logloss:0.517809\n",
      "[99]\tvalidation_0-error:0.097276\tvalidation_0-logloss:0.264441\tvalidation_1-error:0.220472\tvalidation_1-logloss:0.518922\n"
     ]
    },
    {
     "data": {
      "text/plain": [
       "XGBClassifier()"
      ]
     },
     "execution_count": 29,
     "metadata": {},
     "output_type": "execute_result"
    }
   ],
   "source": [
    "# fit model no training data\n",
    "model = XGBClassifier()\n",
    "eval_set = [(X_train, y_train), (X_test, y_test)]\n",
    "model.fit(X_train, y_train, eval_metric=[\"error\", \"logloss\"], eval_set=eval_set, verbose=True)"
   ]
  },
  {
   "cell_type": "code",
   "execution_count": 30,
   "metadata": {},
   "outputs": [
    {
     "name": "stdout",
     "output_type": "stream",
     "text": [
      "Accuracy: 77.95%\n"
     ]
    }
   ],
   "source": [
    "# make predictions for test data\n",
    "y_pred = model.predict(X_test)\n",
    "predictions = [round(value) for value in y_pred]\n",
    "\n",
    "# evaluate predictions\n",
    "accuracy = accuracy_score(y_test, predictions)\n",
    "print(\"Accuracy: %.2f%%\" % (accuracy * 100.0))"
   ]
  },
  {
   "cell_type": "code",
   "execution_count": 31,
   "metadata": {},
   "outputs": [],
   "source": [
    "# retrieve performance metrics\n",
    "results = model.evals_result()\n",
    "epochs = len(results['validation_0']['error'])\n",
    "x_axis = range(0, epochs)"
   ]
  },
  {
   "cell_type": "code",
   "execution_count": 37,
   "metadata": {},
   "outputs": [
    {
     "data": {
      "image/png": "[encoded data removed]",
      "text/plain": [
       "<Figure size 1008x360 with 1 Axes>"
      ]
     },
     "metadata": {
      "needs_background": "light"
     },
     "output_type": "display_data"
    },
    {
     "data": {
      "image/png": "[encoded data removed]",
      "text/plain": [
       "<Figure size 1008x360 with 1 Axes>"
      ]
     },
     "metadata": {
      "needs_background": "light"
     },
     "output_type": "display_data"
    }
   ],
   "source": [
    "# plot log loss\n",
    "fig, ax = plt.subplots()\n",
    "ax.plot(x_axis, results['validation_0']['logloss'], label='Train')\n",
    "ax.plot(x_axis, results['validation_1']['logloss'], label='Test')\n",
    "ax.legend()\n",
    "plt.ylabel('Log Loss')\n",
    "plt.title('XGBoost Log Loss')\n",
    "plt.show()\n",
    "# plot classification error\n",
    "fig, ax = plt.subplots()\n",
    "ax.plot(x_axis, results['validation_0']['error'], label='Train')\n",
    "ax.plot(x_axis, results['validation_1']['error'], label='Test')\n",
    "ax.legend()\n",
    "plt.ylabel('Classification Error')\n",
    "plt.title('XGBoost Classification Error')\n",
    "plt.show()"
   ]
  },
  {
   "cell_type": "markdown",
   "metadata": {},
   "source": [
    "# Early stopping\n",
    "<hr style=\"border:2px solid black\"> </hr>"
   ]
  },
  {
   "cell_type": "markdown",
   "metadata": {},
   "source": [
    "<div class=\"alert alert-info\">\n",
    "<font color=black>\n",
    "\n",
    "- We can see that the model stopped training at epoch 42 (close to what we expected by our manual judgment of learning curves) and that the model with the best loss was observed at epoch 32.\n",
    "\n",
    "</font>\n",
    "</div>"
   ]
  },
  {
   "cell_type": "code",
   "execution_count": 38,
   "metadata": {
    "scrolled": true
   },
   "outputs": [
    {
     "name": "stdout",
     "output_type": "stream",
     "text": [
      "[0]\tvalidation_0-logloss:0.660186\n",
      "Will train until validation_0-logloss hasn't improved in 10 rounds.\n",
      "[1]\tvalidation_0-logloss:0.634854\n",
      "[2]\tvalidation_0-logloss:0.61224\n",
      "[3]\tvalidation_0-logloss:0.593118\n",
      "[4]\tvalidation_0-logloss:0.578303\n",
      "[5]\tvalidation_0-logloss:0.564942\n",
      "[6]\tvalidation_0-logloss:0.555113\n",
      "[7]\tvalidation_0-logloss:0.54499\n",
      "[8]\tvalidation_0-logloss:0.539151\n",
      "[9]\tvalidation_0-logloss:0.531819\n",
      "[10]\tvalidation_0-logloss:0.526065\n",
      "[11]\tvalidation_0-logloss:0.519769\n",
      "[12]\tvalidation_0-logloss:0.514979\n",
      "[13]\tvalidation_0-logloss:0.50927\n",
      "[14]\tvalidation_0-logloss:0.506086\n",
      "[15]\tvalidation_0-logloss:0.503565\n",
      "[16]\tvalidation_0-logloss:0.503591\n",
      "[17]\tvalidation_0-logloss:0.500805\n",
      "[18]\tvalidation_0-logloss:0.497605\n",
      "[19]\tvalidation_0-logloss:0.495328\n",
      "[20]\tvalidation_0-logloss:0.494777\n",
      "[21]\tvalidation_0-logloss:0.494274\n",
      "[22]\tvalidation_0-logloss:0.493333\n",
      "[23]\tvalidation_0-logloss:0.492211\n",
      "[24]\tvalidation_0-logloss:0.491936\n",
      "[25]\tvalidation_0-logloss:0.490578\n",
      "[26]\tvalidation_0-logloss:0.490895\n",
      "[27]\tvalidation_0-logloss:0.490646\n",
      "[28]\tvalidation_0-logloss:0.491911\n",
      "[29]\tvalidation_0-logloss:0.491407\n",
      "[30]\tvalidation_0-logloss:0.488828\n",
      "[31]\tvalidation_0-logloss:0.487867\n",
      "[32]\tvalidation_0-logloss:0.487297\n",
      "[33]\tvalidation_0-logloss:0.487562\n",
      "[34]\tvalidation_0-logloss:0.487789\n",
      "[35]\tvalidation_0-logloss:0.487962\n",
      "[36]\tvalidation_0-logloss:0.488218\n",
      "[37]\tvalidation_0-logloss:0.489582\n",
      "[38]\tvalidation_0-logloss:0.489334\n",
      "[39]\tvalidation_0-logloss:0.490968\n",
      "[40]\tvalidation_0-logloss:0.48978\n",
      "[41]\tvalidation_0-logloss:0.490704\n",
      "[42]\tvalidation_0-logloss:0.492369\n",
      "Stopping. Best iteration:\n",
      "[32]\tvalidation_0-logloss:0.487297\n",
      "\n",
      "Accuracy: 77.56%\n"
     ]
    }
   ],
   "source": [
    "# fit model no training data\n",
    "model = XGBClassifier()\n",
    "eval_set = [(X_test, y_test)]\n",
    "model.fit(X_train, y_train, early_stopping_rounds=10, eval_metric=\"logloss\", eval_set=eval_set, verbose=True)\n",
    "# make predictions for test data\n",
    "y_pred = model.predict(X_test)\n",
    "predictions = [round(value) for value in y_pred]\n",
    "# evaluate predictions\n",
    "accuracy = accuracy_score(y_test, predictions)\n",
    "print(\"Accuracy: %.2f%%\" % (accuracy * 100.0))"
   ]
  },
  {
   "cell_type": "markdown",
   "metadata": {},
   "source": [
    "# Conclusions\n",
    "<hr style=\"border:2px solid black\"> </hr>"
   ]
  },
  {
   "cell_type": "markdown",
   "metadata": {},
   "source": [
    "<div class=\"alert alert-danger\">\n",
    "<font color=black>\n",
    "\n",
    "- Not every metric function shows an easy to see inflection point to spot where early stopping should happen.\n",
    "- For classification problem **logloss** seems to be the best option for this.\n",
    "\n",
    "</font>\n",
    "</div>"
   ]
  },
  {
   "cell_type": "markdown",
   "metadata": {},
   "source": [
    "# References\n",
    "<hr style=\"border:2px solid black\"> </hr>"
   ]
  },
  {
   "cell_type": "markdown",
   "metadata": {},
   "source": [
    "<div class=\"alert alert-warning\">\n",
    "<font color=black>\n",
    "\n",
    "- https://machinelearningmastery.com/avoid-overfitting-by-early-stopping-with-xgboost-in-python\n",
    "\n",
    "</font>\n",
    "</div>"
   ]
  },
  {
   "cell_type": "code",
   "execution_count": null,
   "metadata": {},
   "outputs": [],
   "source": []
  }
 ],
 "metadata": {
  "hide_input": false,
  "kernelspec": {
   "display_name": "trainingAI",
   "language": "python",
   "name": "trainingai"
  },
  "language_info": {
   "codemirror_mode": {
    "name": "ipython",
    "version": 3
   },
   "file_extension": ".py",
   "mimetype": "text/x-python",
   "name": "python",
   "nbconvert_exporter": "python",
   "pygments_lexer": "ipython3",
   "version": "3.8.5"
  }
 },
 "nbformat": 4,
 "nbformat_minor": 4
}
