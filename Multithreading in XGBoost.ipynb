{
 "cells": [
  {
   "cell_type": "markdown",
   "metadata": {},
   "source": [
    "# Introducting to this notebook"
   ]
  },
  {
   "cell_type": "code",
   "execution_count": null,
   "metadata": {},
   "outputs": [],
   "source": [
    "\"\"\"\n",
    "What? Multithreading in XGBoost\n",
    "\n",
    "The XGBoost library for gradient boosting uses is designed for efficient multi-core parallel processing. \n",
    "This allows it to efficiently use all of the CPU cores in your system when training.We will use the Otto \n",
    "Group Product Classification Challenge dataset. This dataset describes the 93 obfuscated details of more \n",
    "than 61,000 products grouped into 10 product categories (e.g. fashion, electronics, etc.). Input attributes\n",
    "are counts of different events of some kind. The goal is to make predictions for new products as an array \n",
    "of probabilities for each of the 10 categories and models are evaluated using multiclass logarithmic loss\n",
    "(also called cross entropy).\n",
    "\n",
    "https://machinelearningmastery.com/best-tune-multithreading-support-xgboost-python/\n",
    "\"\"\""
   ]
  },
  {
   "cell_type": "markdown",
   "metadata": {},
   "source": [
    "# Import python modules"
   ]
  },
  {
   "cell_type": "code",
   "execution_count": 1,
   "metadata": {},
   "outputs": [],
   "source": [
    "import numpy\n",
    "from time import time\n",
    "import multiprocessing\n",
    "from pylab import rcParams\n",
    "from pandas import read_csv\n",
    "from matplotlib import pyplot\n",
    "from xgboost import XGBClassifier\n",
    "from IPython.display import Markdown, display\n",
    "from sklearn.preprocessing import LabelEncoder\n",
    "from sklearn.model_selection import cross_val_score\n",
    "from sklearn.model_selection import StratifiedKFold"
   ]
  },
  {
   "cell_type": "markdown",
   "metadata": {},
   "source": [
    "# Loading dataset"
   ]
  },
  {
   "cell_type": "code",
   "execution_count": 5,
   "metadata": {},
   "outputs": [
    {
     "name": "stdout",
     "output_type": "stream",
     "text": [
      "Input X shape:  (61878, 94)\n",
      "Label y shape:  (61878,)\n"
     ]
    }
   ],
   "source": [
    "# load data\n",
    "data = read_csv('../DATASETS/train_Otto_classification.csv')\n",
    "dataset = data.values\n",
    "# split data into X and y\n",
    "X = dataset[:,0:94]\n",
    "y = dataset[:,94]\n",
    "\n",
    "print(\"Input X shape: \", X.shape)\n",
    "print(\"Label y shape: \", y.shape)"
   ]
  },
  {
   "cell_type": "code",
   "execution_count": 17,
   "metadata": {},
   "outputs": [
    {
     "data": {
      "text/html": [
       "<div>\n",
       "<style scoped>\n",
       "    .dataframe tbody tr th:only-of-type {\n",
       "        vertical-align: middle;\n",
       "    }\n",
       "\n",
       "    .dataframe tbody tr th {\n",
       "        vertical-align: top;\n",
       "    }\n",
       "\n",
       "    .dataframe thead th {\n",
       "        text-align: right;\n",
       "    }\n",
       "</style>\n",
       "<table border=\"1\" class=\"dataframe\">\n",
       "  <thead>\n",
       "    <tr style=\"text-align: right;\">\n",
       "      <th></th>\n",
       "      <th>id</th>\n",
       "      <th>feat_1</th>\n",
       "      <th>feat_2</th>\n",
       "      <th>feat_3</th>\n",
       "      <th>feat_4</th>\n",
       "      <th>feat_5</th>\n",
       "      <th>feat_6</th>\n",
       "      <th>feat_7</th>\n",
       "      <th>feat_8</th>\n",
       "      <th>feat_9</th>\n",
       "      <th>...</th>\n",
       "      <th>feat_85</th>\n",
       "      <th>feat_86</th>\n",
       "      <th>feat_87</th>\n",
       "      <th>feat_88</th>\n",
       "      <th>feat_89</th>\n",
       "      <th>feat_90</th>\n",
       "      <th>feat_91</th>\n",
       "      <th>feat_92</th>\n",
       "      <th>feat_93</th>\n",
       "      <th>target</th>\n",
       "    </tr>\n",
       "  </thead>\n",
       "  <tbody>\n",
       "    <tr>\n",
       "      <th>0</th>\n",
       "      <td>1</td>\n",
       "      <td>1</td>\n",
       "      <td>0</td>\n",
       "      <td>0</td>\n",
       "      <td>0</td>\n",
       "      <td>0</td>\n",
       "      <td>0</td>\n",
       "      <td>0</td>\n",
       "      <td>0</td>\n",
       "      <td>0</td>\n",
       "      <td>...</td>\n",
       "      <td>1</td>\n",
       "      <td>0</td>\n",
       "      <td>0</td>\n",
       "      <td>0</td>\n",
       "      <td>0</td>\n",
       "      <td>0</td>\n",
       "      <td>0</td>\n",
       "      <td>0</td>\n",
       "      <td>0</td>\n",
       "      <td>Class_1</td>\n",
       "    </tr>\n",
       "    <tr>\n",
       "      <th>1</th>\n",
       "      <td>2</td>\n",
       "      <td>0</td>\n",
       "      <td>0</td>\n",
       "      <td>0</td>\n",
       "      <td>0</td>\n",
       "      <td>0</td>\n",
       "      <td>0</td>\n",
       "      <td>0</td>\n",
       "      <td>1</td>\n",
       "      <td>0</td>\n",
       "      <td>...</td>\n",
       "      <td>0</td>\n",
       "      <td>0</td>\n",
       "      <td>0</td>\n",
       "      <td>0</td>\n",
       "      <td>0</td>\n",
       "      <td>0</td>\n",
       "      <td>0</td>\n",
       "      <td>0</td>\n",
       "      <td>0</td>\n",
       "      <td>Class_1</td>\n",
       "    </tr>\n",
       "    <tr>\n",
       "      <th>2</th>\n",
       "      <td>3</td>\n",
       "      <td>0</td>\n",
       "      <td>0</td>\n",
       "      <td>0</td>\n",
       "      <td>0</td>\n",
       "      <td>0</td>\n",
       "      <td>0</td>\n",
       "      <td>0</td>\n",
       "      <td>1</td>\n",
       "      <td>0</td>\n",
       "      <td>...</td>\n",
       "      <td>0</td>\n",
       "      <td>0</td>\n",
       "      <td>0</td>\n",
       "      <td>0</td>\n",
       "      <td>0</td>\n",
       "      <td>0</td>\n",
       "      <td>0</td>\n",
       "      <td>0</td>\n",
       "      <td>0</td>\n",
       "      <td>Class_1</td>\n",
       "    </tr>\n",
       "    <tr>\n",
       "      <th>3</th>\n",
       "      <td>4</td>\n",
       "      <td>1</td>\n",
       "      <td>0</td>\n",
       "      <td>0</td>\n",
       "      <td>1</td>\n",
       "      <td>6</td>\n",
       "      <td>1</td>\n",
       "      <td>5</td>\n",
       "      <td>0</td>\n",
       "      <td>0</td>\n",
       "      <td>...</td>\n",
       "      <td>0</td>\n",
       "      <td>1</td>\n",
       "      <td>2</td>\n",
       "      <td>0</td>\n",
       "      <td>0</td>\n",
       "      <td>0</td>\n",
       "      <td>0</td>\n",
       "      <td>0</td>\n",
       "      <td>0</td>\n",
       "      <td>Class_1</td>\n",
       "    </tr>\n",
       "    <tr>\n",
       "      <th>4</th>\n",
       "      <td>5</td>\n",
       "      <td>0</td>\n",
       "      <td>0</td>\n",
       "      <td>0</td>\n",
       "      <td>0</td>\n",
       "      <td>0</td>\n",
       "      <td>0</td>\n",
       "      <td>0</td>\n",
       "      <td>0</td>\n",
       "      <td>0</td>\n",
       "      <td>...</td>\n",
       "      <td>1</td>\n",
       "      <td>0</td>\n",
       "      <td>0</td>\n",
       "      <td>0</td>\n",
       "      <td>0</td>\n",
       "      <td>1</td>\n",
       "      <td>0</td>\n",
       "      <td>0</td>\n",
       "      <td>0</td>\n",
       "      <td>Class_1</td>\n",
       "    </tr>\n",
       "  </tbody>\n",
       "</table>\n",
       "<p>5 rows × 95 columns</p>\n",
       "</div>"
      ],
      "text/plain": [
       "   id  feat_1  feat_2  feat_3  feat_4  feat_5  feat_6  feat_7  feat_8  feat_9  \\\n",
       "0   1       1       0       0       0       0       0       0       0       0   \n",
       "1   2       0       0       0       0       0       0       0       1       0   \n",
       "2   3       0       0       0       0       0       0       0       1       0   \n",
       "3   4       1       0       0       1       6       1       5       0       0   \n",
       "4   5       0       0       0       0       0       0       0       0       0   \n",
       "\n",
       "   ...  feat_85  feat_86  feat_87  feat_88  feat_89  feat_90  feat_91  \\\n",
       "0  ...        1        0        0        0        0        0        0   \n",
       "1  ...        0        0        0        0        0        0        0   \n",
       "2  ...        0        0        0        0        0        0        0   \n",
       "3  ...        0        1        2        0        0        0        0   \n",
       "4  ...        1        0        0        0        0        1        0   \n",
       "\n",
       "   feat_92  feat_93   target  \n",
       "0        0        0  Class_1  \n",
       "1        0        0  Class_1  \n",
       "2        0        0  Class_1  \n",
       "3        0        0  Class_1  \n",
       "4        0        0  Class_1  \n",
       "\n",
       "[5 rows x 95 columns]"
      ]
     },
     "execution_count": 17,
     "metadata": {},
     "output_type": "execute_result"
    }
   ],
   "source": [
    "# Look at the first 5 lines of the .csv dataset\n",
    "data.head(5)"
   ]
  },
  {
   "cell_type": "code",
   "execution_count": 6,
   "metadata": {},
   "outputs": [
    {
     "data": {
      "text/plain": [
       "array([1, 1, 0, 0, 0, 0, 0, 0, 0, 0, 0, 1, 0, 0, 0, 0, 0, 2, 0, 0, 0, 0,\n",
       "       1, 0, 4, 1, 1, 0, 0, 2, 0, 0, 0, 0, 0, 1, 0, 0, 0, 0, 1, 0, 5, 0,\n",
       "       0, 0, 0, 0, 2, 0, 0, 0, 0, 0, 1, 0, 0, 2, 0, 0, 11, 0, 1, 1, 0, 1,\n",
       "       0, 7, 0, 0, 0, 1, 0, 0, 0, 0, 0, 0, 0, 2, 1, 0, 0, 0, 0, 1, 0, 0,\n",
       "       0, 0, 0, 0, 0, 0], dtype=object)"
      ]
     },
     "execution_count": 6,
     "metadata": {},
     "output_type": "execute_result"
    }
   ],
   "source": [
    "X[0]"
   ]
  },
  {
   "cell_type": "markdown",
   "metadata": {},
   "source": [
    "# Encoding"
   ]
  },
  {
   "cell_type": "code",
   "execution_count": null,
   "metadata": {},
   "outputs": [],
   "source": [
    "\"\"\"\n",
    "In this encoding technique, the categorical data is assigned a value from 1 to N (N is the number for different \n",
    "categories present in the data). This kind of an encoding technique is applied to the ordinal data. The assigning \n",
    "of the value from 1 to N happens either in an increasing or a decreasing order. This is ordering is a requirement.\n",
    "\"\"\""
   ]
  },
  {
   "attachments": {
    "image.png": {
     "image/png": "[encoded data removed]"
    }
   },
   "cell_type": "markdown",
   "metadata": {},
   "source": [
    "![image.png](attachment:image.png)"
   ]
  },
  {
   "cell_type": "code",
   "execution_count": 7,
   "metadata": {},
   "outputs": [
    {
     "name": "stdout",
     "output_type": "stream",
     "text": [
      "BEFORE encoding:  Class_1\n",
      "AFTER encoding:  0\n"
     ]
    }
   ],
   "source": [
    "# Encode string class values as integers\n",
    "print(\"BEFORE encoding: \", y[0])\n",
    "label_encoded_y = LabelEncoder().fit_transform(y)\n",
    "print(\"AFTER encoding: \", label_encoded_y[0])"
   ]
  },
  {
   "cell_type": "markdown",
   "metadata": {},
   "source": [
    "# Evaluate the effect of the number of threads"
   ]
  },
  {
   "cell_type": "code",
   "execution_count": 8,
   "metadata": {},
   "outputs": [
    {
     "name": "stdout",
     "output_type": "stream",
     "text": [
      "This machine has: 8 CPUs\n"
     ]
    }
   ],
   "source": [
    "print(\"This machine has: \" + str(multiprocessing.cpu_count()) + \" CPUs\")"
   ]
  },
  {
   "cell_type": "code",
   "execution_count": 9,
   "metadata": {},
   "outputs": [
    {
     "name": "stdout",
     "output_type": "stream",
     "text": [
      "Evaluation performance on 1 CPUs\n",
      "Evaluation performance on 2 CPUs\n",
      "Evaluation performance on 3 CPUs\n",
      "Evaluation performance on 4 CPUs\n",
      "Evaluation performance on 5 CPUs\n",
      "Evaluation performance on 6 CPUs\n",
      "Evaluation performance on 7 CPUs\n",
      "Evaluation performance on 8 CPUs\n"
     ]
    }
   ],
   "source": [
    "results = []\n",
    "num_threads = [1, 2, 3, 4, 5, 6, 7, 8]\n",
    "for n in num_threads:\n",
    "    print(\"Evaluation performance on \" + str(n) + \" CPUs\")\n",
    "    start = time()\n",
    "    model = XGBClassifier(nthread=n)\n",
    "    model.fit(X, label_encoded_y)\n",
    "    elapsed = time() - start\n",
    "    results.append(elapsed)"
   ]
  },
  {
   "cell_type": "markdown",
   "metadata": {},
   "source": [
    "# Post-processing"
   ]
  },
  {
   "cell_type": "code",
   "execution_count": 10,
   "metadata": {},
   "outputs": [
    {
     "name": "stdout",
     "output_type": "stream",
     "text": [
      "Percentage improvement wrt serial [1 CPU]\n",
      "|- CPUs No.: 1, improve rate: 0.0\n",
      "|- CPUs No.: 2, improve rate: -49.67491105186174\n",
      "|- CPUs No.: 3, improve rate: -64.35701588438491\n",
      "|- CPUs No.: 4, improve rate: -71.67283501022567\n",
      "|- CPUs No.: 5, improve rate: -69.70657941989651\n",
      "|- CPUs No.: 6, improve rate: -72.49571579032389\n",
      "|- CPUs No.: 7, improve rate: -71.5941268444485\n",
      "|- CPUs No.: 8, improve rate: -73.35029615414524\n"
     ]
    }
   ],
   "source": [
    "print(\"Percentage improvement wrt serial [1 CPU]\")\n",
    "import numpy\n",
    "for n in numpy.arange(8):\n",
    "    print(\"|- CPUs No.: \" + str(n+1) + \", improve rate: \" + str( (results[n] - results[0]) / results[0] *100 ))"
   ]
  },
  {
   "cell_type": "code",
   "execution_count": 11,
   "metadata": {},
   "outputs": [
    {
     "name": "stdout",
     "output_type": "stream",
     "text": [
      "Percentage improvement wrt the previous one\n",
      "|- From: 1 CPUs to 2 CPUs, improve rate: -49.67491105186174\n",
      "|- From: 2 CPUs to 3 CPUs, improve rate: -29.174523362797384\n",
      "|- From: 3 CPUs to 4 CPUs, improve rate: -20.525271122391036\n",
      "|- From: 4 CPUs to 5 CPUs, improve rate: 6.941236763505758\n",
      "|- From: 5 CPUs to 6 CPUs, improve rate: -9.207069776264396\n",
      "|- From: 6 CPUs to 7 CPUs, improve rate: 3.2779945807795343\n",
      "|- From: 7 CPUs to 8 CPUs, improve rate: -6.18241622103956\n"
     ]
    }
   ],
   "source": [
    "print(\"Percentage improvement wrt the previous one\")\n",
    "import numpy\n",
    "for n in numpy.arange(0, 7):\n",
    "    print(\"|- From: \" + str(n+1) + \" CPUs to \" + str (n+2) + \" CPUs, improve rate: \" + str( (results[n+1] - results[n]) / results[n] *100 ))"
   ]
  },
  {
   "cell_type": "code",
   "execution_count": 12,
   "metadata": {},
   "outputs": [
    {
     "data": {
      "image/png": "[encoded data removed]",
      "text/plain": [
       "<Figure size 576x576 with 1 Axes>"
      ]
     },
     "metadata": {
      "needs_background": "light"
     },
     "output_type": "display_data"
    }
   ],
   "source": [
    "# Plot results\n",
    "rcParams['figure.figsize'] = 8, 8\n",
    "rcParams['font.size'] = 20\n",
    "\n",
    "fig, ax = pyplot.subplots()\n",
    "pyplot.title('Training speed vs. No of Threads') \n",
    "\n",
    "pyplot.plot(num_threads, results, \"r-\", lw = 3)\n",
    "pyplot.ylabel('Speed (seconds)')\n",
    "pyplot.xlabel('Number of Threads')\n",
    "\n",
    "ax.grid(which = \"major\", linestyle='-', linewidth='1.0', color='k')\n",
    "ax.grid(which = \"minor\", linestyle='--', linewidth='0.25', color='k')\n",
    "ax.tick_params(which = 'major', direction='in', length=10, width=2)\n",
    "ax.tick_params(which = 'minor', direction='in', length=6, width=2)\n",
    "ax.spines['bottom'].set_linewidth(3)\n",
    "ax.spines['left'].set_linewidth(3)\n",
    "ax.minorticks_on()\n",
    "\n",
    "pyplot.show()"
   ]
  },
  {
   "cell_type": "markdown",
   "metadata": {},
   "source": [
    "# Testing 3 different combinations"
   ]
  },
  {
   "cell_type": "code",
   "execution_count": null,
   "metadata": {},
   "outputs": [],
   "source": [
    "\"\"\"\n",
    "[1] Single thread trainig & parallel CV\n",
    "[2] Parallel thread trainig & single thread CV\n",
    "[3] Parallel thread trainig & parallel CV\n",
    "\"\"\""
   ]
  },
  {
   "cell_type": "code",
   "execution_count": 15,
   "metadata": {},
   "outputs": [
    {
     "name": "stdout",
     "output_type": "stream",
     "text": [
      "Single Thread XGBoost, Parallel Thread CV: 270.145560\n"
     ]
    }
   ],
   "source": [
    "# prepare cross validation\n",
    "kfold = StratifiedKFold(n_splits=10, shuffle=True, random_state=7)\n",
    "# Single Thread XGBoost, Parallel Thread CV\n",
    "start = time.time()\n",
    "model = XGBClassifier(nthread=1)\n",
    "results = cross_val_score(model, X, label_encoded_y, cv=kfold, scoring='neg_log_loss', n_jobs=-1)\n",
    "elapsed = time.time() - start\n",
    "print(\"Single Thread XGBoost, Parallel Thread CV: %f\" % (elapsed))"
   ]
  },
  {
   "cell_type": "code",
   "execution_count": 16,
   "metadata": {},
   "outputs": [
    {
     "name": "stdout",
     "output_type": "stream",
     "text": [
      "Parallel Thread XGBoost, Single Thread CV: 854.832747\n"
     ]
    }
   ],
   "source": [
    "# Parallel Thread XGBoost, Single Thread CV\n",
    "start = time.time()\n",
    "model = XGBClassifier(nthread=-1)\n",
    "results = cross_val_score(model, X, label_encoded_y, cv=kfold, scoring='neg_log_loss', n_jobs=1)\n",
    "elapsed = time.time() - start\n",
    "print(\"Parallel Thread XGBoost, Single Thread CV: %f\" % (elapsed))"
   ]
  },
  {
   "cell_type": "code",
   "execution_count": 17,
   "metadata": {},
   "outputs": [
    {
     "name": "stdout",
     "output_type": "stream",
     "text": [
      "Parallel Thread XGBoost and CV: 263.126476\n"
     ]
    }
   ],
   "source": [
    "# Parallel Thread XGBoost and CV\n",
    "start = time.time()\n",
    "model = XGBClassifier(nthread=-1)\n",
    "results = cross_val_score(model, X, label_encoded_y, cv=kfold, scoring='neg_log_loss', n_jobs=-1)\n",
    "elapsed = time.time() - start\n",
    "print(\"Parallel Thread XGBoost and CV: %f\" % (elapsed))"
   ]
  },
  {
   "cell_type": "code",
   "execution_count": null,
   "metadata": {},
   "outputs": [],
   "source": [
    "\"\"\"\n",
    "Excluding the obvious option of no parallelisation at all.\n",
    "\n",
    "Best option    : paralleluse both model and CV\n",
    "Worst option   : parallelise the model but not the CV\n",
    "Lessons learnt : If you have to parallelise you are much better off parallelising the CV but than then model itself.\n",
    "                 This makes sense as CV call the model in 10 different instances. Further running the classifier in \n",
    "                 parallel did not imporove the model much.\n",
    "\"\"\""
   ]
  }
 ],
 "metadata": {
  "hide_input": false,
  "kernelspec": {
   "display_name": "trainingAI",
   "language": "python",
   "name": "trainingai"
  },
  "language_info": {
   "codemirror_mode": {
    "name": "ipython",
    "version": 3
   },
   "file_extension": ".py",
   "mimetype": "text/x-python",
   "name": "python",
   "nbconvert_exporter": "python",
   "pygments_lexer": "ipython3",
   "version": "3.8.5"
  }
 },
 "nbformat": 4,
 "nbformat_minor": 2
}
