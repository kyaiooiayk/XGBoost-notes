{
 "cells": [
  {
   "cell_type": "markdown",
   "id": "7a93c860",
   "metadata": {},
   "source": [
    "# Introduction\n",
    "<hr style = \"border:2px solid black\" ></hr>"
   ]
  },
  {
   "cell_type": "markdown",
   "id": "31a9835f",
   "metadata": {},
   "source": [
    "\n",
    "**What?** How to get the derivatives from XGBoost\n",
    "\n",
""   ]
  },
  {
   "cell_type": "markdown",
   "id": "aa0c8948",
   "metadata": {},
   "source": [
    "# Import modules\n",
    "<hr style = \"border:2px solid black\" ></hr>"
   ]
  },
  {
   "cell_type": "code",
   "execution_count": 1,
   "id": "baeeef50",
   "metadata": {
    "ExecuteTime": {
     "end_time": "2022-02-19T15:57:24.757034Z",
     "start_time": "2022-02-19T15:57:24.171148Z"
    }
   },
   "outputs": [
    {
     "name": "stderr",
     "output_type": "stream",
     "text": [
      "/opt/anaconda3/envs/trainingAI/lib/python3.9/site-packages/xgboost/compat.py:36: FutureWarning: pandas.Int64Index is deprecated and will be removed from pandas in a future version. Use pandas.Index with the appropriate dtype instead.\n",
      "  from pandas import MultiIndex, Int64Index\n"
     ]
    }
   ],
   "source": [
    "import numpy as np\n",
    "import xgboost as xgb\n",
    "from sklearn.datasets import make_classification\n",
    "from sklearn.metrics import confusion_matrix"
   ]
  },
  {
   "cell_type": "markdown",
   "id": "56ecd7ec",
   "metadata": {},
   "source": [
    "# Keep track of the dradient updates\n",
    "<hr style = \"border:2px solid black\" ></hr>"
   ]
  },
  {
   "cell_type": "markdown",
   "id": "75c36355",
   "metadata": {},
   "source": [
    "\n",
    "- To keep track of the gradient updates in each iteration, you would need to **expose the training loop** in python (rather than have it execute internally in the C++ implementation), and provide custom gradient and hessian implementations. \n",
    "- For many of the standard loss functions, e.g., squared loss, logistic loss, this is quite simple and not hard to find in standard references. \n",
    "- Here's an example showing how to expose the training loop for logistic regression. \n",
    "\n",
""   ]
  },
  {
   "cell_type": "markdown",
   "id": "566f249a",
   "metadata": {},
   "source": [
    "# Create synthetic dataset\n",
    "<hr style = \"border:2px solid black\" ></hr>"
   ]
  },
  {
   "cell_type": "code",
   "execution_count": 2,
   "id": "68d880a1",
   "metadata": {
    "ExecuteTime": {
     "end_time": "2022-02-19T15:57:24.763677Z",
     "start_time": "2022-02-19T15:57:24.759186Z"
    }
   },
   "outputs": [],
   "source": [
    "# Build a toy dataset.\n",
    "X, Y = make_classification(n_samples=1000, n_features=5, n_redundant=0, n_informative=3,\n",
    "                           random_state=1, n_clusters_per_class=1)"
   ]
  },
  {
   "cell_type": "markdown",
   "id": "9c181159",
   "metadata": {},
   "source": [
    "# Define a loss function and its derivatives\n",
    "<hr style = \"border:2px solid black\" ></hr>"
   ]
  },
  {
   "cell_type": "code",
   "execution_count": 3,
   "id": "3a6a03b4",
   "metadata": {
    "ExecuteTime": {
     "end_time": "2022-02-19T15:57:24.769964Z",
     "start_time": "2022-02-19T15:57:24.766294Z"
    }
   },
   "outputs": [],
   "source": [
    "def sigmoid(x):\n",
    "    return 1 / (1 + np.exp(-x))\n",
    "\n",
    "\n",
    "def logregobj(preds, dtrain):\n",
    "    \"\"\"log likelihood loss\"\"\"\n",
    "    labels = dtrain.get_label()\n",
    "    preds = sigmoid(preds)\n",
    "    grad = preds - labels\n",
    "    hess = preds * (1.0-preds)\n",
    "    return grad, hess"
   ]
  },
  {
   "cell_type": "markdown",
   "id": "21b1a7fa",
   "metadata": {},
   "source": [
    "# Create an XGBoost model\n",
    "<hr style = \"border:2px solid black\" ></hr>"
   ]
  },
  {
   "cell_type": "code",
   "execution_count": 4,
   "id": "dfe2c96a",
   "metadata": {
    "ExecuteTime": {
     "end_time": "2022-02-19T15:57:24.777649Z",
     "start_time": "2022-02-19T15:57:24.771657Z"
    }
   },
   "outputs": [],
   "source": [
    "# Instantiate a Booster object to do the heavy lifting\n",
    "dtrain = xgb.DMatrix(X, label=Y)\n",
    "params = {'max_depth': 2, 'eta': 1}\n",
    "num_round = 2\n",
    "model = xgb.Booster(params, [dtrain])"
   ]
  },
  {
   "cell_type": "markdown",
   "id": "0e92d8d3",
   "metadata": {},
   "source": [
    "# How to get the gradients\n",
    "<hr style = \"border:2px solid black\" ></hr>"
   ]
  },
  {
   "cell_type": "markdown",
   "id": "7629b24a",
   "metadata": {},
   "source": [
    "\n",
    "- To keep track of the gradient updates in each iteration, you would need to **expose the training loop** in python (rather than have it execute internally in the C++ implementation), and provide custom gradient and hessian implementations. \n",
    "- This means creating a loop manually in python rather than using the `fit()` method!\n",
    "    \n",
""   ]
  },
  {
   "cell_type": "code",
   "execution_count": 5,
   "id": "b0d97771",
   "metadata": {
    "ExecuteTime": {
     "end_time": "2022-02-19T15:57:24.791021Z",
     "start_time": "2022-02-19T15:57:24.780209Z"
    }
   },
   "outputs": [],
   "source": [
    "# Run 10 boosting iterations\n",
    "# g and h can be monitored for gradient statistics\n",
    "for _ in range(10):\n",
    "    pred = model.predict(dtrain)\n",
    "    g, h = logregobj(pred, dtrain)\n",
    "    model.boost(dtrain, g, h)"
   ]
  },
  {
   "cell_type": "code",
   "execution_count": 6,
   "id": "53aa5721",
   "metadata": {
    "ExecuteTime": {
     "end_time": "2022-02-19T15:57:24.804841Z",
     "start_time": "2022-02-19T15:57:24.793588Z"
    }
   },
   "outputs": [
    {
     "data": {
      "text/plain": [
       "(1000,)"
      ]
     },
     "execution_count": 6,
     "metadata": {},
     "output_type": "execute_result"
    }
   ],
   "source": [
    "g.shape"
   ]
  },
  {
   "cell_type": "code",
   "execution_count": 7,
   "id": "a023f7c7",
   "metadata": {
    "ExecuteTime": {
     "end_time": "2022-02-19T15:57:24.811073Z",
     "start_time": "2022-02-19T15:57:24.807165Z"
    }
   },
   "outputs": [
    {
     "data": {
      "text/plain": [
       "(1000,)"
      ]
     },
     "execution_count": 7,
     "metadata": {},
     "output_type": "execute_result"
    }
   ],
   "source": [
    "h.shape"
   ]
  },
  {
   "cell_type": "markdown",
   "id": "3e81e4e4",
   "metadata": {},
   "source": [
    "# Evaluate predictions \n",
    "<hr style = \"border:2px solid black\" ></hr>"
   ]
  },
  {
   "cell_type": "code",
   "execution_count": 8,
   "id": "ff0709c8",
   "metadata": {
    "ExecuteTime": {
     "end_time": "2022-02-19T15:57:24.821032Z",
     "start_time": "2022-02-19T15:57:24.813578Z"
    }
   },
   "outputs": [
    {
     "data": {
      "text/plain": [
       "array([[498,   4],\n",
       "       [  7, 491]])"
      ]
     },
     "execution_count": 8,
     "metadata": {},
     "output_type": "execute_result"
    }
   ],
   "source": [
    "yhat = model.predict(dtrain)\n",
    "yhat = 1.0 / (1.0 + np.exp(-yhat))\n",
    "yhat_labels = np.round(yhat)\n",
    "confusion_matrix(Y, yhat_labels)"
   ]
  },
  {
   "cell_type": "markdown",
   "id": "d85e6999",
   "metadata": {},
   "source": [
    "# References\n",
    "<hr style = \"border:2px solid black\" ></hr>"
   ]
  },
  {
   "cell_type": "markdown",
   "id": "43671c73",
   "metadata": {},
   "source": [
    "\n",
    "- https://stackoverflow.com/questions/44916391/how-to-get-or-see-xgboosts-gradient-statistics-value\n",
    "\n",
""   ]
  },
  {
   "cell_type": "code",
   "execution_count": null,
   "id": "d886df9e",
   "metadata": {},
   "outputs": [],
   "source": []
  }
 ],
 "metadata": {
  "kernelspec": {
   "display_name": "trainingAI",
   "language": "python",
   "name": "trainingai"
  },
  "language_info": {
   "codemirror_mode": {
    "name": "ipython",
    "version": 3
   },
   "file_extension": ".py",
   "mimetype": "text/x-python",
   "name": "python",
   "nbconvert_exporter": "python",
   "pygments_lexer": "ipython3",
   "version": "3.9.7"
  },
  "toc": {
   "base_numbering": 1,
   "nav_menu": {},
   "number_sections": true,
   "sideBar": true,
   "skip_h1_title": false,
   "title_cell": "Table of Contents",
   "title_sidebar": "Contents",
   "toc_cell": false,
   "toc_position": {},
   "toc_section_display": true,
   "toc_window_display": false
  },
  "varInspector": {
   "cols": {
    "lenName": 16,
    "lenType": 16,
    "lenVar": 40
   },
   "kernels_config": {
    "python": {
     "delete_cmd_postfix": "",
     "delete_cmd_prefix": "del ",
     "library": "var_list.py",
     "varRefreshCmd": "print(var_dic_list())"
    },
    "r": {
     "delete_cmd_postfix": ") ",
     "delete_cmd_prefix": "rm(",
     "library": "var_list.r",
     "varRefreshCmd": "cat(var_dic_list()) "
    }
   },
   "types_to_exclude": [
    "module",
    "function",
    "builtin_function_or_method",
    "instance",
    "_Feature"
   ],
   "window_display": false
  }
 },
 "nbformat": 4,
 "nbformat_minor": 5
}
